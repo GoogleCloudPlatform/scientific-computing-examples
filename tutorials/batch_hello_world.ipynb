{
  "cells": [
    {
      "cell_type": "markdown",
      "metadata": {
        "id": "kGyoVNRZWPhP"
      },
      "source": [
        "<table class=\"tfo-notebook-buttons\" align=\"left\">\n",
        "  <td>\n",
        "    <a target=\"_blank\" href=\"https://colab.research.google.com/github/jrossthomson/scientific-computing-examples/blob/main/tutorials/batch_hello_world.ipynb\"><img src=\"https://quantumai.google/site-assets/images/buttons/colab_logo_1x.png\" />Run in Google Colab</a>\n",
        "  </td>\n",
        "  <td>\n",
        "    <a target=\"_blank\"  href=\"https://github.com/jrossthomson/Cottontail/blob/main/batch.ipynb\"><img src=\"https://quantumai.google/site-assets/images/buttons/github_logo_1x.png\" />View source on GitHub</a>\n",
        "  </td>\n",
        "  <td>\n",
        "    <a target=\"_blank\" download=\"gromacs-slurm.ipynb\" href=\"https://raw.githubusercontent.com/jrossthomson/scientific-computing-examples/main/tutorials/gromacs-on-slurm/gromacs-slurm.ipynb\"><img src=\"https://quantumai.google/site-assets/images/buttons/download_icon_1x.png\" />Download notebook</a>\n",
        "  </td>\n",
        "</table>"
      ]
    },
    {
      "cell_type": "markdown",
      "metadata": {
        "id": "eJwVuZUyVkQY"
      },
      "source": [
        "# Overview\n",
        "This tutorial will demonstrate how to run some simple jobs using [Google Cloud Batch](https://cloud.google.com/batch/docs/get-started). A few key points:\n",
        "\n",
        " 1. You have the choice of using a [project you have already created](https://cloud.google.com/resource-manager/docs/creating-managing-projects), or creating one here.\n",
        " 1. You use a [existing GCS bucket](https://cloud.google.com/storage/docs/creating-buckets#create_a_new_bucket) from your existing project, or you  can create a new one here.\n",
        " 1. Most of the work communicating with Google Cloud is done with the [gcloud command](https://cloud.google.com/sdk/gcloud)\n",
        " 1. There are no VMs to provision. All that is done automatically for you by Batch.\n",
        "\n",
        "The following series of steps will take you through some of the basics of using Cloud Batch.\n",
        "\n",
        " > **IMPORTANT:** \n",
        " \n",
        "It is assumed that the system hosting this notebook has `gcloud` installed. If not, [it can be installed according to these instructions](https://cloud.google.com/sdk/docs/install)\n",
        "  For this reason, we recommend the use of [Google Colab](https://research.google.com/colaboratory/)\n",
        "\n"
      ]
    },
    {
      "cell_type": "markdown",
      "metadata": {
        "id": "YXSfZ92YuAKl"
      },
      "source": [
        "# Getting Started\n",
        "There are several steps to configure your settings with Google Cloud. Except for the Python installation below, all are completed with the `gcloud` command.\n",
        "## Run Pip to install packages\n",
        "Some Python packages are not preinstalled. We add them here."
      ]
    },
    {
      "cell_type": "code",
      "execution_count": null,
      "metadata": {
        "id": "Q2Sqg-vFMS1G"
      },
      "outputs": [],
      "source": [
        "%%capture\n",
        "#@title Pip Install Packages: Run Me! {display-mode: \"form\"}\n",
        "!pip install Jinja2\n",
        "!pip3 install grpcio"
      ]
    },
    {
      "cell_type": "markdown",
      "metadata": {
        "id": "u4PpEvsuVUK1"
      },
      "source": [
        "## Build Input UI. \n",
        "\n",
        "The form below will is for you to enter the required (and optional) information to make the rest of the tutorial work. You will enter:\n",
        "\n",
        "1. [The project ID](https://cloud.google.com/resource-manager/docs/creating-managing-projects#before_you_begin)\n",
        "1. You user ID, which is the login id you used to connect to the Google Cloud Console.\n",
        "1. The [region where you want the jobs](https://cloud.google.com/compute/docs/regions-zones) to run.\n",
        "1. The name of you [GCS Bucket](https://cloud.google.com/storage/docs/creating-buckets), either already created or the one to be created in your project.\n",
        "1. Your [billing id](https://cloud.google.com/billing/docs/how-to/view-linked), you may have to ask your organization manager. This is required only if you plan to create a new project here.\n",
        "\n",
        "Run the next code cell to create the data entry form."
      ]
    },
    {
      "cell_type": "code",
      "execution_count": 169,
      "metadata": {
        "colab": {
          "base_uri": "https://localhost:8080/",
          "height": 234,
          "referenced_widgets": [
            "6e4305bbd3bd44b8a0dc3de5b55c503a",
            "a84549649ef74a9b8c239449a4e0fb53",
            "407ce119a1704b7e88cd822ba67c11dd",
            "4a09a53523704e19b3f091ac335b9ec1",
            "2c56845205994b0e960431c8dc3bcf09",
            "d8736f54f7774a1982769212ed481601",
            "5909c000e93b43ce91cf5106faf0ce64",
            "89bde7aa895d4f5a9b77b2fa97c3cd87",
            "522a1f7ffedf4b0ca4c50b4125208d87",
            "96afa79abaaf447fb989c5cf905e6c86",
            "35a252a29d2d4be6a67cdfe58c99feee",
            "3a4b1c2409664356b7d39630e036caab",
            "f4c2661ec06c4639bfd168a1c86bacf5",
            "b1490439cb6d47ebb4d70480e549e740",
            "364509581d2b4ffaa4b838e4f6a7ac80",
            "dea88ea5d8f74c96a332dcd8a1970b0c",
            "3d643562ef01437e95efc4215969cd6e"
          ]
        },
        "id": "GlI68hqtjVN_",
        "outputId": "13948f50-ba0d-4365-8d4a-588d46f31a7e"
      },
      "outputs": [
        {
          "data": {
            "application/vnd.jupyter.widget-view+json": {
              "model_id": "6e4305bbd3bd44b8a0dc3de5b55c503a",
              "version_major": 2,
              "version_minor": 0
            },
            "text/plain": [
              "Accordion(children=(Text(value='create-hpc-cluster2\\n'), Text(value='drj@gcp.solutions\\n'), Text(value='us-eas…"
            ]
          },
          "metadata": {},
          "output_type": "display_data"
        }
      ],
      "source": [
        "#@title Form Setup: Run Me! {display-mode: \"form\"}\n",
        "#@markdown Run this section to enter your information into the notebook\n",
        "\n",
        "import ipywidgets as widgets\n",
        "import subprocess\n",
        "account = subprocess.run(['gcloud', 'config', 'get-value', 'account'], stdout=subprocess.PIPE)\n",
        "if not account.stdout: \n",
        "   account.stdout = 'enter-user-id' \n",
        "\n",
        "project = subprocess.run(['gcloud', 'config', 'get-value', 'project'], stdout=subprocess.PIPE)\n",
        "if not project.stdout: \n",
        "   project.stdout = 'enter-project-id' \n",
        "\n",
        "region = subprocess.run(['gcloud',  'config',  'get-value',  'compute/region'],  stdout=subprocess.PIPE)\n",
        "if not region.stdout: \n",
        "   region.stdout = 'us-east1' \n",
        "\n",
        "bucket_name = \"enter-bucket-name\"\n",
        "billing_id = \"enter-billing-id\"\n",
        "\n",
        "\n",
        "project = widgets.Text( value=project.stdout, disabled=False )\n",
        "username = widgets.Text( value=account.stdout, disabled=False )\n",
        "region = widgets.Text( value=region.stdout, disabled=False )\n",
        "bucket = widgets.Text( value=bucket_name, disabled=False )\n",
        "billing = widgets.Text( value=billing_id, disabled=False )\n",
        "\n",
        "\n",
        "\n",
        "accordion = widgets.Accordion(children=[project, username, region, bucket, billing])\n",
        "accordion.set_title(0, 'ProjectID')\n",
        "accordion.set_title(1, 'UserID')\n",
        "accordion.set_title(2, 'Region')\n",
        "accordion.set_title(3, 'Bucket Name')\n",
        "accordion.set_title(4, 'Billing ID [Optional]')\n",
        "accordion.selected_index = None\n",
        "display(accordion)\n"
      ]
    },
    {
      "cell_type": "markdown",
      "metadata": {
        "id": "ps0NIbk_pBAn"
      },
      "source": [
        "## Authenticate to Google Cloud\n",
        "This step allows you to connect and run `gcloud` commands. If you get a <span style=\"color:yellow\">\"WARNING\"</span>, you may already be logged in.\n",
        "\n",
        "Follow the instructions to ensure the login process is completed.\n"
      ]
    },
    {
      "cell_type": "code",
      "execution_count": null,
      "metadata": {
        "collapsed": true,
        "id": "VxEz-nbFWScI"
      },
      "outputs": [],
      "source": [
        "!gcloud auth login $username.value"
      ]
    },
    {
      "cell_type": "code",
      "execution_count": null,
      "metadata": {
        "id": "s2yV-vcyqhsl"
      },
      "outputs": [],
      "source": [
        "def create_project():\n",
        "    proj = project.value[:-1] ## remove \"\\n\" char in the project value var\n",
        "\n",
        "    # Don't do project creationg if the billing ID is not set\n",
        "    if billing.value == \"enter-billing-id\":\n",
        "      print(\"Billing ID not set\")\n",
        "    else:\n",
        "      !gcloud projects create $project.value\n",
        "      !gcloud beta billing projects link $proj --billing-account=$billing.value\n",
        "      \n",
        "create_project()"
      ]
    },
    {
      "cell_type": "markdown",
      "metadata": {
        "id": "ZFGqX9-lpPRu"
      },
      "source": [
        "## Create gcloud configuration\n",
        "\n",
        "There are two things happening here:\n",
        "1. You are setting the configurations for `gcloud` defaults\n",
        "1. You are enabling Google Cloud APIs\n",
        "1. Finally, the full configuration is listed out.\n",
        "\n",
        "It is important that these happen in the right order, for example, you have to enable the `compute` API before `gcloud` lets you set a variable for `compute`.\n",
        "\n",
        "This code cell takes about 30 seconds to execute."
      ]
    },
    {
      "cell_type": "code",
      "execution_count": null,
      "metadata": {
        "id": "9u_xa75zp-n-"
      },
      "outputs": [],
      "source": [
        "# set project\n",
        "!gcloud config set project $project.value \n",
        "#enable APIs\n",
        "!gcloud services enable compute.googleapis.com \n",
        "!gcloud services enable batch.googleapis.com\n",
        "!gcloud services enable monitoring.googleapis.com\n",
        "# set region \n",
        "!gcloud config set compute/region $region.value\n",
        "\n",
        "# list out the complete configuation\n",
        "!gcloud config list"
      ]
    },
    {
      "cell_type": "markdown",
      "metadata": {
        "id": "aheY4T6GWPhT"
      },
      "source": [
        "# Running jobs\n",
        "Now that Google Cloud is configured, it is time to create the job files to guide execution, then run the jobs.\n",
        "\n",
        "## Create job file\n",
        "The job files are JSON based and contain all the required information to run the tasks described.  The jobs file you will run here are simple. \n",
        "\n",
        "The next code cell creates a (somewhat complicated) data structure to contain the raw text of the job files. Essentially, there are two things happening:\n",
        "\n",
        "1. The JSON is written as a template, so things like the GCS Bucket name can be inserted into the job file. \n",
        "1. The JSON template is tied to a list that we use to make the nice green buttons below.\n",
        "\n",
        "If you want to see the details of the JSON< you can click the \"Show code\" link and you can see all everything.\n",
        "\n",
        "Otherwise, just execute the cell and move to the next section."
      ]
    },
    {
      "cell_type": "code",
      "execution_count": null,
      "metadata": {
        "id": "C89wryR1WPhT"
      },
      "outputs": [],
      "source": [
        "#@title Create Templates for JSON settings files  {display-mode: \"form\"}\n",
        "#@markdown [These jobs files are from this doc](https://cloud.google.com/batch/docs/get-started#create-basic-job)\n",
        "#@markdown * Create a JSON file for writing GCS bucket\n",
        "\n",
        "def create_jobtypelist():\n",
        "    jobtypelist = {}\n",
        "    gcs_template = \"\"\"\n",
        "    {\n",
        "        \"taskGroups\":[\n",
        "            {\n",
        "            \"taskSpec\":{\n",
        "                \"runnables\": [\n",
        "                {\n",
        "                    \"script\": {\n",
        "                    \"text\": \"echo Hello world from task ${BATCH_TASK_INDEX}. >> /mnt/share/log${JOB_ID}_${BATCH_TASK_INDEX}.txt\"\n",
        "                    },\n",
        "                    \"environment\": {\n",
        "                        \"variables\": {\n",
        "                          \"JOB_ID\": \"{{ job_id }} \"\n",
        "                        }\n",
        "                    }\n",
        "                  } \n",
        "                ],\n",
        "                \"volumes\": [\n",
        "                {\n",
        "                    \"gcs\": {\n",
        "                    \"remotePath\": \"{{ bucket_name }}\"\n",
        "                    },\n",
        "                    \"mountPath\": \"/mnt/share\"\n",
        "                }\n",
        "                ]\n",
        "            },\n",
        "            \"taskCount\": 3\n",
        "            }\n",
        "        ]\n",
        "    }\n",
        "\n",
        "    \"\"\"\n",
        "    jobtypelist[\"gcs\"] = {\"desc\": \"Create GCS\", \"code\": gcs_template }\n",
        "\n",
        "    #@markdown * Create a JSON file for running Hello World using a container\n",
        "    hello_container_template = \"\"\"{\n",
        "        \"taskGroups\": [\n",
        "            {\n",
        "            \"taskSpec\": {\n",
        "                \"runnables\": [\n",
        "                {\n",
        "                    \"container\": {\n",
        "                    \"imageUri\": \"gcr.io/google-containers/busybox\",\n",
        "                    \"entrypoint\": \"/bin/sh\",\n",
        "                    \"commands\": [\n",
        "                        \"-c\",\n",
        "                        \"echo Hello world! This is task ${BATCH_TASK_INDEX} from JOB ={{ job_id }}. This job has a total of ${BATCH_TASK_COUNT} tasks.\"\n",
        "                    ]\n",
        "                    }\n",
        "                }\n",
        "                ],\n",
        "                \"computeResource\": {\n",
        "                \"cpuMilli\": 2000,\n",
        "                \"memoryMib\": 16\n",
        "                },\n",
        "                \"maxRetryCount\": 2,\n",
        "                \"maxRunDuration\": \"3600s\"\n",
        "            },\n",
        "            \"taskCount\": 4,\n",
        "            \"parallelism\": 2\n",
        "            }\n",
        "        ],\n",
        "        \"allocationPolicy\": {\n",
        "            \"instances\": [\n",
        "            {\n",
        "                \"policy\": {\"machineType\": \"e2-standard-4\"}\n",
        "            }\n",
        "            ]\n",
        "        },\n",
        "        \"labels\": {\n",
        "            \"department\": \"finance\",\n",
        "            \"env\": \"testing\"\n",
        "        },\n",
        "        \"logsPolicy\": {\n",
        "            \"destination\": \"CLOUD_LOGGING\"\n",
        "        }\n",
        "    }\n",
        "    \"\"\"\n",
        "    jobtypelist[\"hello\"] = {\"desc\": \"Create Hello World\", \"code\" : hello_container_template}\n",
        "    return(jobtypelist)\n"
      ]
    },
    {
      "cell_type": "markdown",
      "metadata": {
        "id": "D2iq0LiFWPhW"
      },
      "source": [
        "# Submit a job\n",
        "All the preamble was to get you to this point: running a job!\n",
        "\n",
        "There are a couple of jobs to choose from. \n",
        "\n",
        "1. Create files on GCS \"Create GCS\"\n",
        "1. Use a container to say \"Hello World!\": \"Create Hello World\"\n",
        "\n",
        "Choosing the appropriate button will submit the job.\n",
        "\n",
        "* Since job names have to be unique in Batch, a random job id is generated and used to create output file.\n",
        "* In sections below you will get experience with jobs, listing them and deleting them.\n",
        "\n",
        "Now, run the next cell and click on a green button."
      ]
    },
    {
      "cell_type": "code",
      "execution_count": null,
      "metadata": {
        "id": "Vqt3McR5WwB4"
      },
      "outputs": [],
      "source": [
        "#@title Generate buttons to submit jobs {display-mode: \"form\"}\n",
        "#@markdown Create a job by selecting the button.\n",
        "import jinja2\n",
        "import sys\n",
        "from os import environ\n",
        "import ipywidgets as widgets\n",
        "import uuid\n",
        "\n",
        "jobid = \"\"\n",
        "environment = jinja2.Environment()\n",
        "\n",
        "jobtypelist = create_jobtypelist()\n",
        "\n",
        "class MyButton(widgets.Button):\n",
        "    code = \"\"\n",
        "\n",
        "def run_job(b):\n",
        "    jobid = uuid.uuid4().hex[:8]\n",
        "    template = environment.from_string(b.code)\n",
        "    render = template.render(bucket_name=bucket.value, job_id=jobid)\n",
        "    f = open(jobid + \".json\", \"w\")\n",
        "    f.write(render)\n",
        "    f.close()\n",
        "    out2.clear_output()\n",
        "    with out2:\n",
        "        print(\"\\n\\nCreating job\")\n",
        "        print(\"\\n\\nCreating job file: \", jobid + \"txt\")\n",
        "        jobstring = !echo gcloud beta batch jobs submit {jobid} --location us-east1 --config {jobid}.json\n",
        "        print(\"Executing command: \" + jobstring[0])\n",
        "        # print(render)\n",
        "        \n",
        "        ## This is the command line that is being executed.\n",
        "        !gcloud beta batch jobs submit {jobid} --location us-east1 --config {jobid}.json\n",
        "\n",
        "out = widgets.Output(layout={'border': '1px solid black'})\n",
        "display(out)\n",
        "out2 = widgets.Output(layout={'border': '1px solid black'})\n",
        "display(out2)\n",
        "with out:\n",
        "    for jobtype in jobtypelist:\n",
        "        button = MyButton(description=jobtypelist[jobtype][\"desc\"],  button_style='success')\n",
        "        button.code = jobtypelist[jobtype] = jobtypelist[jobtype][\"code\"]\n",
        "        display(button)\n",
        "        button.on_click(run_job)\n",
        "\n"
      ]
    },
    {
      "cell_type": "markdown",
      "metadata": {
        "id": "EqBFyr61WPhX"
      },
      "source": [
        "## List jobs \n",
        "\n",
        "Once you have submitted jobs above (you can submit as many as you like), you can see the list of jobs \n",
        "\n",
        "You can also see the list of jobs in the console UI: \n",
        "\n",
        "*  [Job list](https://console.cloud.google.com/batch/jobs)"
      ]
    },
    {
      "cell_type": "code",
      "execution_count": null,
      "metadata": {
        "id": "BOn0tGkOWPhY"
      },
      "outputs": [],
      "source": [
        "!gcloud beta batch jobs list --location $region.value"
      ]
    },
    {
      "cell_type": "markdown",
      "metadata": {
        "id": "ugCnqz-eWPhY"
      },
      "source": [
        "## Delete jobs\n",
        "Once a job has run, it will remain in the list of jobs for that project indefinitely. However, if you want to delete a job, you can use the `gcloud` command as:\n",
        "```\n",
        "gcloud beta batch jobs delete job_name --location Region\n",
        "```\n",
        "For you convenience, you can run the cell below and use the button to delete you jobs by entering the job name."
      ]
    },
    {
      "cell_type": "code",
      "execution_count": null,
      "metadata": {
        "id": "1iHwPO9jQ-sh"
      },
      "outputs": [],
      "source": [
        "#@title Use this form to delete jobs file {display-mode: \"form\"}\n",
        "#@markdown [From this doc](https://cloud.google.com/batch/docs/get-started#delete_a_job)\n",
        "\n",
        "import ipywidgets as widgets\n",
        "\n",
        "job = widgets.Text( value=\"f4b6c517\", disabled=False )\n",
        "button = widgets.Button(\n",
        "    value=False,\n",
        "    description='Delete job',\n",
        "    button_style='success', # 'success', 'info', 'warning', 'danger' or ''\n",
        "    tooltip='Description',\n",
        "    icon='check'\n",
        ")\n",
        "display(job, button)\n",
        "def delete_me(b):\n",
        "\n",
        "    ## this is the Gcloud command you will want to execute if deleting manually\n",
        "    !gcloud beta batch jobs delete $job.value --location $region.value\n",
        "\n",
        "button.on_click(delete_me)"
      ]
    },
    {
      "cell_type": "markdown",
      "metadata": {
        "id": "Xi8GyXZ2422v"
      },
      "source": [
        "## See output of the \"Hello World\" job\n",
        "If you ran the \"Hello World\" job, the output was sent to the Cloud Logging system. To view logs, run [`gcloud logging`](https://cloud.google.com/sdk/gcloud/reference/logging) commands.\n",
        " \n",
        " The next cell provides a sample of how to see the output of the last few jobs"
      ]
    },
    {
      "cell_type": "code",
      "execution_count": null,
      "metadata": {
        "id": "0IGItc3rmShK"
      },
      "outputs": [],
      "source": [
        "%%bash\n",
        "gcloud logging read \"Hello world\" --limit 100 | grep 'This is task [0-9]'"
      ]
    }
  ],
  "metadata": {
    "colab": {
      "collapsed_sections": [],
      "name": "batch.ipynb",
      "provenance": [],
      "toc_visible": true
    },
    "kernelspec": {
      "display_name": "Python 3.10.5 64-bit",
      "language": "python",
      "name": "python3"
    },
    "language_info": {
      "codemirror_mode": {
        "name": "ipython",
        "version": 3
      },
      "file_extension": ".py",
      "mimetype": "text/x-python",
      "name": "python",
      "nbconvert_exporter": "python",
      "pygments_lexer": "ipython3",
      "version": "3.10.5"
    },
    "orig_nbformat": 4,
    "vscode": {
      "interpreter": {
        "hash": "916dbcbb3f70747c44a77c7bcd40155683ae19c65e1c03b4aa3499c5328201f1"
      }
    },
    "widgets": {
      "application/vnd.jupyter.widget-state+json": {
        "2c56845205994b0e960431c8dc3bcf09": {
          "model_module": "@jupyter-widgets/controls",
          "model_module_version": "1.5.0",
          "model_name": "TextModel",
          "state": {
            "_dom_classes": [],
            "_model_module": "@jupyter-widgets/controls",
            "_model_module_version": "1.5.0",
            "_model_name": "TextModel",
            "_view_count": null,
            "_view_module": "@jupyter-widgets/controls",
            "_view_module_version": "1.5.0",
            "_view_name": "TextView",
            "continuous_update": true,
            "description": "",
            "description_tooltip": null,
            "disabled": false,
            "layout": "IPY_MODEL_b1490439cb6d47ebb4d70480e549e740",
            "placeholder": "​",
            "style": "IPY_MODEL_364509581d2b4ffaa4b838e4f6a7ac80",
            "value": "enter-bucket-name"
          }
        },
        "35a252a29d2d4be6a67cdfe58c99feee": {
          "model_module": "@jupyter-widgets/controls",
          "model_module_version": "1.5.0",
          "model_name": "DescriptionStyleModel",
          "state": {
            "_model_module": "@jupyter-widgets/controls",
            "_model_module_version": "1.5.0",
            "_model_name": "DescriptionStyleModel",
            "_view_count": null,
            "_view_module": "@jupyter-widgets/base",
            "_view_module_version": "1.2.0",
            "_view_name": "StyleView",
            "description_width": ""
          }
        },
        "364509581d2b4ffaa4b838e4f6a7ac80": {
          "model_module": "@jupyter-widgets/controls",
          "model_module_version": "1.5.0",
          "model_name": "DescriptionStyleModel",
          "state": {
            "_model_module": "@jupyter-widgets/controls",
            "_model_module_version": "1.5.0",
            "_model_name": "DescriptionStyleModel",
            "_view_count": null,
            "_view_module": "@jupyter-widgets/base",
            "_view_module_version": "1.2.0",
            "_view_name": "StyleView",
            "description_width": ""
          }
        },
        "3a4b1c2409664356b7d39630e036caab": {
          "model_module": "@jupyter-widgets/base",
          "model_module_version": "1.2.0",
          "model_name": "LayoutModel",
          "state": {
            "_model_module": "@jupyter-widgets/base",
            "_model_module_version": "1.2.0",
            "_model_name": "LayoutModel",
            "_view_count": null,
            "_view_module": "@jupyter-widgets/base",
            "_view_module_version": "1.2.0",
            "_view_name": "LayoutView",
            "align_content": null,
            "align_items": null,
            "align_self": null,
            "border": null,
            "bottom": null,
            "display": null,
            "flex": null,
            "flex_flow": null,
            "grid_area": null,
            "grid_auto_columns": null,
            "grid_auto_flow": null,
            "grid_auto_rows": null,
            "grid_column": null,
            "grid_gap": null,
            "grid_row": null,
            "grid_template_areas": null,
            "grid_template_columns": null,
            "grid_template_rows": null,
            "height": null,
            "justify_content": null,
            "justify_items": null,
            "left": null,
            "margin": null,
            "max_height": null,
            "max_width": null,
            "min_height": null,
            "min_width": null,
            "object_fit": null,
            "object_position": null,
            "order": null,
            "overflow": null,
            "overflow_x": null,
            "overflow_y": null,
            "padding": null,
            "right": null,
            "top": null,
            "visibility": null,
            "width": null
          }
        },
        "3d643562ef01437e95efc4215969cd6e": {
          "model_module": "@jupyter-widgets/controls",
          "model_module_version": "1.5.0",
          "model_name": "DescriptionStyleModel",
          "state": {
            "_model_module": "@jupyter-widgets/controls",
            "_model_module_version": "1.5.0",
            "_model_name": "DescriptionStyleModel",
            "_view_count": null,
            "_view_module": "@jupyter-widgets/base",
            "_view_module_version": "1.2.0",
            "_view_name": "StyleView",
            "description_width": ""
          }
        },
        "407ce119a1704b7e88cd822ba67c11dd": {
          "model_module": "@jupyter-widgets/controls",
          "model_module_version": "1.5.0",
          "model_name": "TextModel",
          "state": {
            "_dom_classes": [],
            "_model_module": "@jupyter-widgets/controls",
            "_model_module_version": "1.5.0",
            "_model_name": "TextModel",
            "_view_count": null,
            "_view_module": "@jupyter-widgets/controls",
            "_view_module_version": "1.5.0",
            "_view_name": "TextView",
            "continuous_update": true,
            "description": "",
            "description_tooltip": null,
            "disabled": false,
            "layout": "IPY_MODEL_96afa79abaaf447fb989c5cf905e6c86",
            "placeholder": "​",
            "style": "IPY_MODEL_35a252a29d2d4be6a67cdfe58c99feee",
            "value": "drj@gcp.solutions\n"
          }
        },
        "4a09a53523704e19b3f091ac335b9ec1": {
          "model_module": "@jupyter-widgets/controls",
          "model_module_version": "1.5.0",
          "model_name": "TextModel",
          "state": {
            "_dom_classes": [],
            "_model_module": "@jupyter-widgets/controls",
            "_model_module_version": "1.5.0",
            "_model_name": "TextModel",
            "_view_count": null,
            "_view_module": "@jupyter-widgets/controls",
            "_view_module_version": "1.5.0",
            "_view_name": "TextView",
            "continuous_update": true,
            "description": "",
            "description_tooltip": null,
            "disabled": false,
            "layout": "IPY_MODEL_3a4b1c2409664356b7d39630e036caab",
            "placeholder": "​",
            "style": "IPY_MODEL_f4c2661ec06c4639bfd168a1c86bacf5",
            "value": "us-east1\n"
          }
        },
        "522a1f7ffedf4b0ca4c50b4125208d87": {
          "model_module": "@jupyter-widgets/controls",
          "model_module_version": "1.5.0",
          "model_name": "DescriptionStyleModel",
          "state": {
            "_model_module": "@jupyter-widgets/controls",
            "_model_module_version": "1.5.0",
            "_model_name": "DescriptionStyleModel",
            "_view_count": null,
            "_view_module": "@jupyter-widgets/base",
            "_view_module_version": "1.2.0",
            "_view_name": "StyleView",
            "description_width": ""
          }
        },
        "5909c000e93b43ce91cf5106faf0ce64": {
          "model_module": "@jupyter-widgets/base",
          "model_module_version": "1.2.0",
          "model_name": "LayoutModel",
          "state": {
            "_model_module": "@jupyter-widgets/base",
            "_model_module_version": "1.2.0",
            "_model_name": "LayoutModel",
            "_view_count": null,
            "_view_module": "@jupyter-widgets/base",
            "_view_module_version": "1.2.0",
            "_view_name": "LayoutView",
            "align_content": null,
            "align_items": null,
            "align_self": null,
            "border": null,
            "bottom": null,
            "display": null,
            "flex": null,
            "flex_flow": null,
            "grid_area": null,
            "grid_auto_columns": null,
            "grid_auto_flow": null,
            "grid_auto_rows": null,
            "grid_column": null,
            "grid_gap": null,
            "grid_row": null,
            "grid_template_areas": null,
            "grid_template_columns": null,
            "grid_template_rows": null,
            "height": null,
            "justify_content": null,
            "justify_items": null,
            "left": null,
            "margin": null,
            "max_height": null,
            "max_width": null,
            "min_height": null,
            "min_width": null,
            "object_fit": null,
            "object_position": null,
            "order": null,
            "overflow": null,
            "overflow_x": null,
            "overflow_y": null,
            "padding": null,
            "right": null,
            "top": null,
            "visibility": null,
            "width": null
          }
        },
        "6e4305bbd3bd44b8a0dc3de5b55c503a": {
          "model_module": "@jupyter-widgets/controls",
          "model_module_version": "1.5.0",
          "model_name": "AccordionModel",
          "state": {
            "_dom_classes": [],
            "_model_module": "@jupyter-widgets/controls",
            "_model_module_version": "1.5.0",
            "_model_name": "AccordionModel",
            "_titles": {
              "0": "ProjectID",
              "1": "UserID",
              "2": "Region",
              "3": "Bucket Name",
              "4": "Billing ID [Optional]"
            },
            "_view_count": null,
            "_view_module": "@jupyter-widgets/controls",
            "_view_module_version": "1.5.0",
            "_view_name": "AccordionView",
            "box_style": "",
            "children": [
              "IPY_MODEL_a84549649ef74a9b8c239449a4e0fb53",
              "IPY_MODEL_407ce119a1704b7e88cd822ba67c11dd",
              "IPY_MODEL_4a09a53523704e19b3f091ac335b9ec1",
              "IPY_MODEL_2c56845205994b0e960431c8dc3bcf09",
              "IPY_MODEL_d8736f54f7774a1982769212ed481601"
            ],
            "layout": "IPY_MODEL_5909c000e93b43ce91cf5106faf0ce64",
            "selected_index": null
          }
        },
        "89bde7aa895d4f5a9b77b2fa97c3cd87": {
          "model_module": "@jupyter-widgets/base",
          "model_module_version": "1.2.0",
          "model_name": "LayoutModel",
          "state": {
            "_model_module": "@jupyter-widgets/base",
            "_model_module_version": "1.2.0",
            "_model_name": "LayoutModel",
            "_view_count": null,
            "_view_module": "@jupyter-widgets/base",
            "_view_module_version": "1.2.0",
            "_view_name": "LayoutView",
            "align_content": null,
            "align_items": null,
            "align_self": null,
            "border": null,
            "bottom": null,
            "display": null,
            "flex": null,
            "flex_flow": null,
            "grid_area": null,
            "grid_auto_columns": null,
            "grid_auto_flow": null,
            "grid_auto_rows": null,
            "grid_column": null,
            "grid_gap": null,
            "grid_row": null,
            "grid_template_areas": null,
            "grid_template_columns": null,
            "grid_template_rows": null,
            "height": null,
            "justify_content": null,
            "justify_items": null,
            "left": null,
            "margin": null,
            "max_height": null,
            "max_width": null,
            "min_height": null,
            "min_width": null,
            "object_fit": null,
            "object_position": null,
            "order": null,
            "overflow": null,
            "overflow_x": null,
            "overflow_y": null,
            "padding": null,
            "right": null,
            "top": null,
            "visibility": null,
            "width": null
          }
        },
        "96afa79abaaf447fb989c5cf905e6c86": {
          "model_module": "@jupyter-widgets/base",
          "model_module_version": "1.2.0",
          "model_name": "LayoutModel",
          "state": {
            "_model_module": "@jupyter-widgets/base",
            "_model_module_version": "1.2.0",
            "_model_name": "LayoutModel",
            "_view_count": null,
            "_view_module": "@jupyter-widgets/base",
            "_view_module_version": "1.2.0",
            "_view_name": "LayoutView",
            "align_content": null,
            "align_items": null,
            "align_self": null,
            "border": null,
            "bottom": null,
            "display": null,
            "flex": null,
            "flex_flow": null,
            "grid_area": null,
            "grid_auto_columns": null,
            "grid_auto_flow": null,
            "grid_auto_rows": null,
            "grid_column": null,
            "grid_gap": null,
            "grid_row": null,
            "grid_template_areas": null,
            "grid_template_columns": null,
            "grid_template_rows": null,
            "height": null,
            "justify_content": null,
            "justify_items": null,
            "left": null,
            "margin": null,
            "max_height": null,
            "max_width": null,
            "min_height": null,
            "min_width": null,
            "object_fit": null,
            "object_position": null,
            "order": null,
            "overflow": null,
            "overflow_x": null,
            "overflow_y": null,
            "padding": null,
            "right": null,
            "top": null,
            "visibility": null,
            "width": null
          }
        },
        "a84549649ef74a9b8c239449a4e0fb53": {
          "model_module": "@jupyter-widgets/controls",
          "model_module_version": "1.5.0",
          "model_name": "TextModel",
          "state": {
            "_dom_classes": [],
            "_model_module": "@jupyter-widgets/controls",
            "_model_module_version": "1.5.0",
            "_model_name": "TextModel",
            "_view_count": null,
            "_view_module": "@jupyter-widgets/controls",
            "_view_module_version": "1.5.0",
            "_view_name": "TextView",
            "continuous_update": true,
            "description": "",
            "description_tooltip": null,
            "disabled": false,
            "layout": "IPY_MODEL_89bde7aa895d4f5a9b77b2fa97c3cd87",
            "placeholder": "​",
            "style": "IPY_MODEL_522a1f7ffedf4b0ca4c50b4125208d87",
            "value": "create-hpc-cluster2\n"
          }
        },
        "b1490439cb6d47ebb4d70480e549e740": {
          "model_module": "@jupyter-widgets/base",
          "model_module_version": "1.2.0",
          "model_name": "LayoutModel",
          "state": {
            "_model_module": "@jupyter-widgets/base",
            "_model_module_version": "1.2.0",
            "_model_name": "LayoutModel",
            "_view_count": null,
            "_view_module": "@jupyter-widgets/base",
            "_view_module_version": "1.2.0",
            "_view_name": "LayoutView",
            "align_content": null,
            "align_items": null,
            "align_self": null,
            "border": null,
            "bottom": null,
            "display": null,
            "flex": null,
            "flex_flow": null,
            "grid_area": null,
            "grid_auto_columns": null,
            "grid_auto_flow": null,
            "grid_auto_rows": null,
            "grid_column": null,
            "grid_gap": null,
            "grid_row": null,
            "grid_template_areas": null,
            "grid_template_columns": null,
            "grid_template_rows": null,
            "height": null,
            "justify_content": null,
            "justify_items": null,
            "left": null,
            "margin": null,
            "max_height": null,
            "max_width": null,
            "min_height": null,
            "min_width": null,
            "object_fit": null,
            "object_position": null,
            "order": null,
            "overflow": null,
            "overflow_x": null,
            "overflow_y": null,
            "padding": null,
            "right": null,
            "top": null,
            "visibility": null,
            "width": null
          }
        },
        "d8736f54f7774a1982769212ed481601": {
          "model_module": "@jupyter-widgets/controls",
          "model_module_version": "1.5.0",
          "model_name": "TextModel",
          "state": {
            "_dom_classes": [],
            "_model_module": "@jupyter-widgets/controls",
            "_model_module_version": "1.5.0",
            "_model_name": "TextModel",
            "_view_count": null,
            "_view_module": "@jupyter-widgets/controls",
            "_view_module_version": "1.5.0",
            "_view_name": "TextView",
            "continuous_update": true,
            "description": "",
            "description_tooltip": null,
            "disabled": false,
            "layout": "IPY_MODEL_dea88ea5d8f74c96a332dcd8a1970b0c",
            "placeholder": "​",
            "style": "IPY_MODEL_3d643562ef01437e95efc4215969cd6e",
            "value": "enter-billing-id"
          }
        },
        "dea88ea5d8f74c96a332dcd8a1970b0c": {
          "model_module": "@jupyter-widgets/base",
          "model_module_version": "1.2.0",
          "model_name": "LayoutModel",
          "state": {
            "_model_module": "@jupyter-widgets/base",
            "_model_module_version": "1.2.0",
            "_model_name": "LayoutModel",
            "_view_count": null,
            "_view_module": "@jupyter-widgets/base",
            "_view_module_version": "1.2.0",
            "_view_name": "LayoutView",
            "align_content": null,
            "align_items": null,
            "align_self": null,
            "border": null,
            "bottom": null,
            "display": null,
            "flex": null,
            "flex_flow": null,
            "grid_area": null,
            "grid_auto_columns": null,
            "grid_auto_flow": null,
            "grid_auto_rows": null,
            "grid_column": null,
            "grid_gap": null,
            "grid_row": null,
            "grid_template_areas": null,
            "grid_template_columns": null,
            "grid_template_rows": null,
            "height": null,
            "justify_content": null,
            "justify_items": null,
            "left": null,
            "margin": null,
            "max_height": null,
            "max_width": null,
            "min_height": null,
            "min_width": null,
            "object_fit": null,
            "object_position": null,
            "order": null,
            "overflow": null,
            "overflow_x": null,
            "overflow_y": null,
            "padding": null,
            "right": null,
            "top": null,
            "visibility": null,
            "width": null
          }
        },
        "f4c2661ec06c4639bfd168a1c86bacf5": {
          "model_module": "@jupyter-widgets/controls",
          "model_module_version": "1.5.0",
          "model_name": "DescriptionStyleModel",
          "state": {
            "_model_module": "@jupyter-widgets/controls",
            "_model_module_version": "1.5.0",
            "_model_name": "DescriptionStyleModel",
            "_view_count": null,
            "_view_module": "@jupyter-widgets/base",
            "_view_module_version": "1.2.0",
            "_view_name": "StyleView",
            "description_width": ""
          }
        }
      }
    }
  },
  "nbformat": 4,
  "nbformat_minor": 0
}
