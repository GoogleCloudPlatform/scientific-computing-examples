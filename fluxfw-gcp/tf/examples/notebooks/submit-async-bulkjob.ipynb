{
 "cells": [
  {
   "cell_type": "markdown",
   "id": "c774ff94-8640-49b6-93d9-ddb7754d6f31",
   "metadata": {},
   "source": [
    "### Asynchronous Bulk Job Submission\n",
    "\n",
    "This notebook demonstrates different implementations of the same basic use-case: submitting a large number of jobs to _flux_."
   ]
  },
  {
   "cell_type": "markdown",
   "id": "904209f0-840e-4de1-bb8f-42b56b1afe9a",
   "metadata": {},
   "source": [
    "The first option is to submit _jobspec_ files from a directory and wait for them to complete in any order. The next cell creates a `jobs` directory and populates it with 1024 simple _sleep_ job specs. This cell should only be executed once."
   ]
  },
  {
   "cell_type": "code",
   "execution_count": null,
   "id": "52de546f-dea1-4e53-b43f-ac074516d039",
   "metadata": {},
   "outputs": [],
   "source": [
    "!mkdir jobs\n",
    "\n",
    "!flux mini run --dry-run -n1 sleep 0 > jobs/0.json\n",
    "\n",
    "!for i in $(seq 1 1024); do cp jobs/0.json jobs/${i}.json; done"
   ]
  },
  {
   "cell_type": "markdown",
   "id": "453b1974-5c57-4976-84e6-2a09dd4061cf",
   "metadata": {},
   "source": [
    "Now import the necessary modules."
   ]
  },
  {
   "cell_type": "code",
   "execution_count": null,
   "id": "6b6f4fa0-7180-4104-be93-fc00630c110b",
   "metadata": {},
   "outputs": [],
   "source": [
    "import glob\n",
    "import os\n",
    "import time\n",
    "import sys\n",
    "import flux\n",
    "\n",
    "from flux import job\n",
    "from flux import constants"
   ]
  },
  {
   "cell_type": "markdown",
   "id": "e6ed4a7e-d1fb-4bb1-8781-90261d133bf9",
   "metadata": {},
   "source": [
    "Create the `jobs` \"queue\" and some logging and callback functions."
   ]
  },
  {
   "cell_type": "code",
   "execution_count": null,
   "id": "47806c63-6d55-42c0-b11b-54a936718fc8",
   "metadata": {},
   "outputs": [],
   "source": [
    "jobs = []\n",
    "label = \"bulksubmit\"\n",
    "\n",
    "def log(s):\n",
    "    print(label + \": \" + s)\n",
    "\n",
    "\n",
    "def progress(fraction, length=72, suffix=\"\"):\n",
    "    fill = int(round(length * fraction))\n",
    "    bar = \"\\u2588\" * fill + \"-\" * (length - fill)\n",
    "    s = \"\\r|{0}| {1:.1f}% {2}\".format(bar, 100 * fraction, suffix)\n",
    "    sys.stdout.write(s)\n",
    "    if fraction == 1.0:\n",
    "        sys.stdout.write(\"\\n\")\n",
    "\n",
    "\n",
    "def submit_cb(f):\n",
    "    jobs.append(job.submit_get_id(f))"
   ]
  },
  {
   "cell_type": "markdown",
   "id": "36cb394d-87ed-4fb8-8ab5-3b72924d4e5d",
   "metadata": {},
   "source": [
    "Submit each of the job specs in the `jobs` directory asynchronously and then wait for all of them to complete in some arbitrary order."
   ]
  },
  {
   "cell_type": "code",
   "execution_count": null,
   "id": "d2a77c50-6b6d-4f16-8991-dcc32485ceaa",
   "metadata": {},
   "outputs": [],
   "source": [
    "h = flux.Flux()\n",
    "\n",
    "t0 = time.perf_counter()\n",
    "\n",
    "log(\"Starting...\")\n",
    "for file in glob.glob(\"jobs/*.json\"):\n",
    "    with open(file) as jobspec:\n",
    "        job.submit_async(h, jobspec.read(), waitable=True).then(submit_cb)\n",
    "        \n",
    "if h.reactor_run() < 0:\n",
    "    h.fatal_error(\"reactor start failed\")\n",
    "\n",
    "total = len(jobs)\n",
    "dt = time.perf_counter() - t0\n",
    "jps = len(jobs) / dt\n",
    "log(\"submitted {0} jobs in {1:.2f}s. {2:.2f}job/s\".format(total, dt, jps))\n",
    "\n",
    "count = 0\n",
    "while count < total:\n",
    "    # wait for jobs to complete in any order\n",
    "    job.wait(h)\n",
    "    count = count + 1\n",
    "    if count == 1:\n",
    "        log(\"First job finished in about {0:.3f}s\".format(time.perf_counter() - t0))\n",
    "    suffix = \"({0:.1f} job/s)\".format(count / (time.perf_counter() - t0))\n",
    "    progress(count / total, length=58, suffix=suffix)\n",
    "\n",
    "dt = time.perf_counter() - t0\n",
    "log(\"{0} jobs run in {1:.1f}s. {2:.1f} job/s\".format(total, dt, total / dt))"
   ]
  },
  {
   "cell_type": "markdown",
   "id": "a04ac950-213c-4b6a-a145-36a9675d5b24",
   "metadata": {},
   "source": [
    "The second option uses the `FluxExecutor` class to asnychronously submit job specs constructed from a command and wait for them complete in any order."
   ]
  },
  {
   "cell_type": "code",
   "execution_count": null,
   "id": "474fa9ae-7ebe-4df8-bc4d-50216b240bb6",
   "metadata": {},
   "outputs": [],
   "source": [
    "import concurrent.futures as cf\n",
    "\n",
    "from flux.job import FluxExecutor, JobspecV1"
   ]
  },
  {
   "cell_type": "markdown",
   "id": "1af404b6-42b9-470d-ae62-69da22909279",
   "metadata": {},
   "source": [
    "After importing the ncessary modules, specify a command to be run by each job (in this example the command is: `sleep 0`) and then use an instance of `FluxExecutor` to asynchronously submit a job spec created from the command a large number of times. The executor creates a list of `futures` which are used to wait for job completion."
   ]
  },
  {
   "cell_type": "code",
   "execution_count": null,
   "id": "a46da6f6-6526-488b-800d-85fac9b7cf4b",
   "metadata": {},
   "outputs": [],
   "source": [
    "njobs = 1024\n",
    "command = [\"/bin/sleep\", \"0\"]\n",
    "\n",
    "t0 = time.perf_counter()\n",
    "label = \"bulksubmit_executor\"\n",
    "with FluxExecutor() as executor:\n",
    "    compute_jobspec = JobspecV1.from_command(command)\n",
    "    futures = [executor.submit(compute_jobspec) for _ in range(njobs)]\n",
    "    # wait for the jobid for each job, as a proxy for the job being submitted\n",
    "    for fut in futures:\n",
    "        fut.jobid()\n",
    "\n",
    "    # all jobs submitted - print timings\n",
    "    dt = time.perf_counter() - t0\n",
    "    jps = njobs / dt\n",
    "    log(\"{0} submitted {1} jobs in {2:.2f}s. {3:.2f}jobs/s\".format(label, njobs, dt, jps))\n",
    "    # wait for jobs to complete\n",
    "    for i, _ in enumerate(cf.as_completed(futures)):\n",
    "        if i == 0:\n",
    "            log(\"First job finished in about {0:.3f}s\".format(time.perf_counter() - t0))\n",
    "        jps = (i + 1) / (time.perf_counter() - t0)\n",
    "        progress((i + 1) / njobs, length=58, suffix=f\"({jps:.1f} job/s)\")\n",
    "# print time summary\n",
    "dt = time.perf_counter() - t0\n",
    "log(\"{0} jobs run in {1:1f}s. {2:1f} job/s\".format(njobs, dt, njobs/dt))\n"
   ]
  }
 ],
 "metadata": {
  "kernelspec": {
   "display_name": "Python 3 (ipykernel)",
   "language": "python",
   "name": "python3"
  },
  "language_info": {
   "codemirror_mode": {
    "name": "ipython",
    "version": 3
   },
   "file_extension": ".py",
   "mimetype": "text/x-python",
   "name": "python",
   "nbconvert_exporter": "python",
   "pygments_lexer": "ipython3",
   "version": "3.9.12"
  }
 },
 "nbformat": 4,
 "nbformat_minor": 5
}
