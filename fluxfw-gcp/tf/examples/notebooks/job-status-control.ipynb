{
 "cells": [
  {
   "cell_type": "markdown",
   "id": "e9a91a83-007d-4750-b0b9-658a5516b698",
   "metadata": {},
   "source": [
    "### Job Status and Control API\n",
    "\n",
    "This notebook demonstrates how to use the `FluxExecutor` class to submit job bundles, get event updates, and wait until all the submitted jobs complete."
   ]
  },
  {
   "cell_type": "markdown",
   "id": "9b1da9e5-a16c-4d08-98d3-eb05e16578f9",
   "metadata": {},
   "source": [
    "First, import the necessary modules and determine the number of nodes and cores available to your allocation."
   ]
  },
  {
   "cell_type": "code",
   "execution_count": null,
   "id": "96c5233e-2577-4f3a-86df-f682a22945c2",
   "metadata": {},
   "outputs": [],
   "source": [
    "import os\n",
    "from flux.job import JobspecV1, FluxExecutor\n",
    "\n",
    "ncores = !flux resource list -no {ncores} --state=up\n",
    "nc = int(ncores[0])\n",
    "\n",
    "nnodes = !flux resource list -no {nnodes} --state=up\n",
    "nn = int(nnodes[0])"
   ]
  },
  {
   "cell_type": "markdown",
   "id": "f7801a7a-6f1e-4b09-b23f-f3abc232be0f",
   "metadata": {},
   "source": [
    "Create an _event callback_ you will attach to each submitted job."
   ]
  },
  {
   "cell_type": "code",
   "execution_count": null,
   "id": "e54ae8bd-9eca-4f87-a7a7-e69d6b21c203",
   "metadata": {},
   "outputs": [],
   "source": [
    "def event_callback(future, event):\n",
    "    print(f\"job {future.jobid()} triggered event {event.name!r}\")"
   ]
  },
  {
   "cell_type": "markdown",
   "id": "4ebf19f9-300b-42d5-a2fa-bd9dbb3d67f2",
   "metadata": {},
   "source": [
    "Create a pair of jobs, each with different resoruces requirements."
   ]
  },
  {
   "cell_type": "code",
   "execution_count": null,
   "id": "34250527-df4d-4cab-b103-d3bf2a509eaf",
   "metadata": {},
   "outputs": [],
   "source": [
    "compute_jobreq = JobspecV1.from_command(\n",
    "        command=[\"./flux-workflow-examples/job-status-control/compute.py\", \"10\"], num_tasks=nn*2, num_nodes=nn, cores_per_task=2\n",
    "    )\n",
    "compute_jobreq.cwd = os.getcwd()\n",
    "compute_jobreq.environment = dict(os.environ)\n",
    "\n",
    "io_jobreq = JobspecV1.from_command(\n",
    "    command=[\"./flux-workflow-examples/job-status-control/io-forwarding.py\", \"10\"], num_tasks=nn, num_nodes=nn, cores_per_task=1\n",
    ")\n",
    "io_jobreq.cwd = os.getcwd()\n",
    "io_jobreq.environment = dict(os.environ)"
   ]
  },
  {
   "cell_type": "markdown",
   "id": "f691f261-b8a2-4c70-b979-6d9d8d5e204c",
   "metadata": {},
   "source": [
    "Finally, submit the jobs and observe the event lifecycle as _flux_ schedules and executes each submitted job."
   ]
  },
  {
   "cell_type": "code",
   "execution_count": null,
   "id": "a5d51050-7502-45a0-a238-7f5e7262f28c",
   "metadata": {},
   "outputs": [],
   "source": [
    "njobs = 12\n",
    "\n",
    "with FluxExecutor() as executor:\n",
    "    futures = [executor.submit(compute_jobreq) for _ in range(njobs // 2)]\n",
    "    futures.extend(\n",
    "        executor.submit(io_jobreq) for _ in range(njobs // 2, njobs)\n",
    "    )\n",
    "    print(\"bookkeeper: all jobs submitted\")\n",
    "    for fut in futures:\n",
    "        # each event can have a different callback\n",
    "        for event in executor.EVENTS:\n",
    "            fut.add_event_callback(event, event_callback)\n",
    "            \n",
    "    print(\"bookkeeper: waiting until all jobs complete\")\n",
    "    \n",
    "# exiting the context manager waits for the executor to complete all futures\n",
    "print(\"bookkeeper: all jobs completed\")"
   ]
  }
 ],
 "metadata": {
  "kernelspec": {
   "display_name": "Python 3 (ipykernel)",
   "language": "python",
   "name": "python3"
  },
  "language_info": {
   "codemirror_mode": {
    "name": "ipython",
    "version": 3
   },
   "file_extension": ".py",
   "mimetype": "text/x-python",
   "name": "python",
   "nbconvert_exporter": "python",
   "pygments_lexer": "ipython3",
   "version": "3.9.12"
  }
 },
 "nbformat": 4,
 "nbformat_minor": 5
}
