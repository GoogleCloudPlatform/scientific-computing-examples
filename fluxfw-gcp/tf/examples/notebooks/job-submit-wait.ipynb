{
 "cells": [
  {
   "cell_type": "markdown",
   "id": "9223c947-d333-427f-a234-580b8750bfc9",
   "metadata": {},
   "source": [
    "### Asynchronous job submission and waiting for job completion"
   ]
  },
  {
   "cell_type": "markdown",
   "id": "567ed0bb-cc21-4f62-83ea-02ac548dacee",
   "metadata": {},
   "source": [
    "Import the required modules and determine the number of cores and nodes available in the allocation."
   ]
  },
  {
   "cell_type": "code",
   "execution_count": null,
   "id": "c8e2fb35-dcb7-45e7-bc74-973d63f93bdb",
   "metadata": {},
   "outputs": [],
   "source": [
    "import os\n",
    "import concurrent.futures"
   ]
  },
  {
   "cell_type": "code",
   "execution_count": null,
   "id": "05ecadf8-58df-4af0-9f85-ff3eab860e83",
   "metadata": {},
   "outputs": [],
   "source": [
    "from flux.job import JobspecV1, FluxExecutor"
   ]
  },
  {
   "cell_type": "code",
   "execution_count": null,
   "id": "b1020874-2f48-437f-bb6f-5edc77a1e75f",
   "metadata": {},
   "outputs": [],
   "source": [
    "ncores = !flux resource list -no {ncores} --state=up\n",
    "nc = int(ncores[0])\n",
    "\n",
    "nnodes = !flux resource list -no {nnodes} --state=up\n",
    "nn = int(nnodes[0])"
   ]
  },
  {
   "cell_type": "markdown",
   "id": "f1826ac3-ce96-4221-942d-566915c2eef3",
   "metadata": {},
   "source": [
    "Create a job request that will run `compute.py` across all the nodes in the allocation."
   ]
  },
  {
   "cell_type": "code",
   "execution_count": null,
   "id": "550941f4-b8fc-42a0-9eb6-895a7ca5321d",
   "metadata": {},
   "outputs": [],
   "source": [
    "compute_jobspec = JobspecV1.from_command(\n",
    "    command=[\"./flux-workflow-examples/job-submit-wait/compute.py\", \"10\"], num_tasks=nn*2, num_nodes=nn, cores_per_task=4\n",
    ")\n",
    "compute_jobspec.cwd = os.getcwd()\n",
    "compute_jobspec.environment = dict(os.environ)"
   ]
  },
  {
   "cell_type": "markdown",
   "id": "9a46a619-218b-42a6-a605-d68043e6c28a",
   "metadata": {},
   "source": [
    "Create a _bad_ job request that _flux_ will see as failing when it is launched."
   ]
  },
  {
   "cell_type": "code",
   "execution_count": null,
   "id": "98d5ce68-05e6-4747-a91f-b959e99682ce",
   "metadata": {},
   "outputs": [],
   "source": [
    "bad_jobspec = JobspecV1.from_command([\"/bin/false\"])"
   ]
  },
  {
   "cell_type": "markdown",
   "id": "ffb935b1-3cf8-47b7-b7f1-fd3b8c983d8a",
   "metadata": {},
   "source": [
    "Launch a set of jobs, half of them `compute.py` and half of them `bad` and wait for them to complete in any order either successfully or with an error code."
   ]
  },
  {
   "cell_type": "code",
   "execution_count": null,
   "id": "930691b5-68c1-40b3-9493-bfaf2a9272be",
   "metadata": {},
   "outputs": [],
   "source": [
    "njobs = 12"
   ]
  },
  {
   "cell_type": "code",
   "execution_count": null,
   "id": "30ada7e5-4a74-4a9f-9a21-9a162fc28109",
   "metadata": {},
   "outputs": [],
   "source": [
    "with FluxExecutor() as executor:\n",
    "    futures = []\n",
    "    # submit half successful jobs and half failures\n",
    "    for _ in range(njobs // 2):\n",
    "        futures.append(executor.submit(compute_jobspec))\n",
    "        print(f\"submit: {id(futures[-1])} compute_jobspec\")\n",
    "    for _ in range(njobs // 2, njobs):\n",
    "        futures.append(executor.submit(bad_jobspec))\n",
    "        print(f\"submit: {id(futures[-1])} bad_jobspec\")\n",
    "    for fut in concurrent.futures.as_completed(futures):\n",
    "        if fut.exception() is not None:\n",
    "            print(f\"wait: {id(fut)} Error: job raised error {fut.exception()}\")\n",
    "        elif fut.result() == 0:\n",
    "            print(f\"wait: {id(fut)} Success\")\n",
    "        else:\n",
    "            print(f\"wait: {id(fut)} Error: job returned exit code {fut.result()}\")"
   ]
  },
  {
   "cell_type": "markdown",
   "id": "e54a4858-af60-41de-b4bf-65719bbc4630",
   "metadata": {},
   "source": [
    "### Sliding submission window\n",
    "\n",
    "This code launches a set of jobs but uses a sliding _window_ to control how many are submitted at any point in time."
   ]
  },
  {
   "cell_type": "code",
   "execution_count": null,
   "id": "1f7ab595-6a8f-4e8d-b29a-47242e69f9ee",
   "metadata": {},
   "outputs": [],
   "source": [
    "import collections\n",
    "import concurrent.futures as cf"
   ]
  },
  {
   "cell_type": "code",
   "execution_count": null,
   "id": "e80b9d3e-ceae-4767-ac5a-92db2187a53b",
   "metadata": {},
   "outputs": [],
   "source": [
    "compute_jobspec = JobspecV1.from_command(\n",
    "    command=[\"./flux-workflow-examples/job-submit-wait/compute.py\", \"5\"], num_tasks=8, num_nodes=2, cores_per_task=4\n",
    ")\n",
    "compute_jobspec.cwd = os.getcwd()\n",
    "compute_jobspec.environment = dict(os.environ)"
   ]
  },
  {
   "cell_type": "code",
   "execution_count": null,
   "id": "d124afe5-396c-4b40-81c5-e282b892e6ec",
   "metadata": {},
   "outputs": [],
   "source": [
    "njobs = 16\n",
    "window_size = 5\n",
    "\n",
    "jobspec_queue = collections.deque(compute_jobspec for _ in range(njobs))\n",
    "futures = []  # holds incomplete futures"
   ]
  },
  {
   "cell_type": "code",
   "execution_count": null,
   "id": "19f99002-b429-4e91-8531-3527f5434668",
   "metadata": {},
   "outputs": [],
   "source": [
    "with FluxExecutor() as executor:\n",
    "    while jobspec_queue or futures:\n",
    "        if len(futures) < window_size and jobspec_queue:\n",
    "            fut = executor.submit(jobspec_queue.popleft())\n",
    "            print(f\"submit: {id(fut)}\")\n",
    "            futures.append(fut)\n",
    "        else:\n",
    "            done, not_done = cf.wait(futures, return_when=cf.FIRST_COMPLETED)\n",
    "            futures = list(not_done)\n",
    "            for fut in done:\n",
    "                if fut.exception() is not None:\n",
    "                    print(\n",
    "                        f\"wait: {id(fut)} Error: job raised error \"\n",
    "                        f\"{fut.exception()}\"\n",
    "                    )\n",
    "                elif fut.result() == 0:\n",
    "                    print(f\"wait: {id(fut)} Success\")\n",
    "                else:\n",
    "                    print(\n",
    "                        f\"wait: {id(fut)} Error: job returned \"\n",
    "                        f\"exit code {fut.result()}\"\n",
    "                    )"
   ]
  },
  {
   "cell_type": "markdown",
   "id": "5d785719-c38d-4d42-9942-44269f430193",
   "metadata": {},
   "source": [
    "### Wait for a specific job to complete\n",
    "\n",
    "Finally, launch a set of jobs and randomly chose one of them to wait for."
   ]
  },
  {
   "cell_type": "code",
   "execution_count": null,
   "id": "18e70cff-6c40-4bb7-b315-5716b3aae387",
   "metadata": {},
   "outputs": [],
   "source": [
    "compute_jobspec = JobspecV1.from_command(\n",
    "    command=[\"./flux-workflow-examples/job-submit-wait/compute.py\", \"2\"], num_tasks=12, num_nodes=3, cores_per_task=4\n",
    ")\n",
    "compute_jobspec.cwd = os.getcwd()\n",
    "compute_jobspec.environment = dict(os.environ)"
   ]
  },
  {
   "cell_type": "code",
   "execution_count": null,
   "id": "f16acbfb-6aee-4020-b2aa-86d65c1d765b",
   "metadata": {},
   "outputs": [],
   "source": [
    "import random\n",
    "\n",
    "njobs = 8"
   ]
  },
  {
   "cell_type": "code",
   "execution_count": null,
   "id": "033ce43f-75cc-4e6d-a747-e9114eef6afc",
   "metadata": {},
   "outputs": [],
   "source": [
    "with FluxExecutor() as executor:\n",
    "    chosen_job = random.randrange(njobs)\n",
    "    futures = []\n",
    "    # submit half successful jobs and half failures\n",
    "    for n in range(njobs):\n",
    "        futures.append(executor.submit(compute_jobspec))\n",
    "        print(f\"submit: {id(futures[-1])} compute_jobspec\")\n",
    "        if n == chosen_job:\n",
    "            chosen_job_id = id(futures[-1])\n",
    "    print(f\"waiting for {chosen_job_id} to complete\")\n",
    "    for fut in concurrent.futures.as_completed(futures):\n",
    "        if id(fut) == chosen_job_id:\n",
    "            print(f\"job {chosen_job_id} Completed [{fut.result()}]\")"
   ]
  },
  {
   "cell_type": "markdown",
   "id": "9059af47-4cda-4918-a1c7-43ddfb69d384",
   "metadata": {},
   "source": [
    "Once the chosen job completes we may want to cancel the others. Check out the `job-cancelation` notebook to see how to cancel jobs."
   ]
  }
 ],
 "metadata": {
  "kernelspec": {
   "display_name": "Python 3 (ipykernel)",
   "language": "python",
   "name": "python3"
  },
  "language_info": {
   "codemirror_mode": {
    "name": "ipython",
    "version": 3
   },
   "file_extension": ".py",
   "mimetype": "text/x-python",
   "name": "python",
   "nbconvert_exporter": "python",
   "pygments_lexer": "ipython3",
   "version": "3.9.12"
  }
 },
 "nbformat": 4,
 "nbformat_minor": 5
}
