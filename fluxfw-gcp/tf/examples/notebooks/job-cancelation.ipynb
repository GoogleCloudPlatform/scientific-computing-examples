{
 "cells": [
  {
   "cell_type": "markdown",
   "id": "7faf013b-3e57-4db4-ae39-2adb7d12a008",
   "metadata": {},
   "source": [
    "### Job Cancelation\n",
    "\n",
    "Import the necessary modules and determine how many nodes and cores the allocation contains."
   ]
  },
  {
   "cell_type": "code",
   "execution_count": null,
   "id": "5152c0fd-93dd-4c2a-b668-a2bdde33b360",
   "metadata": {},
   "outputs": [],
   "source": [
    "import time\n",
    "import flux\n",
    "from flux.job import JobspecV1"
   ]
  },
  {
   "cell_type": "code",
   "execution_count": null,
   "id": "f85fe028-886f-4ab3-bd98-0d75e2213875",
   "metadata": {},
   "outputs": [],
   "source": [
    "ncores = !flux resource list -no {ncores} --state=up\n",
    "nc = int(ncores[0])\n",
    "\n",
    "nnodes = !flux resource list -no {nnodes} --state=up\n",
    "nn = int(nnodes[0])\n",
    "\n",
    "f = flux.Flux()"
   ]
  },
  {
   "cell_type": "markdown",
   "id": "aa3c2486-fec8-4fc1-a693-7f5b180526b2",
   "metadata": {},
   "source": [
    "Create a `sleep` job specifcation that consumes all the cores in the allocation."
   ]
  },
  {
   "cell_type": "code",
   "execution_count": null,
   "id": "c21dd8c0-ce02-4520-a1bb-5608c840c1bb",
   "metadata": {},
   "outputs": [],
   "source": [
    "sleep_jobspec = JobspecV1.from_command(\n",
    "    [\"sleep\", \"60\"], num_tasks=nn, cores_per_task=int(nc/nn)\n",
    ")"
   ]
  },
  {
   "cell_type": "markdown",
   "id": "0779d8ae-cd44-41f9-9ad3-c92d29c38262",
   "metadata": {},
   "source": [
    "Now launch two `sleep` jobs"
   ]
  },
  {
   "cell_type": "code",
   "execution_count": null,
   "id": "481060b7-2c2c-4406-b32b-e88d5edcd0f4",
   "metadata": {},
   "outputs": [],
   "source": [
    "first_jobid = flux.job.submit(f, sleep_jobspec, waitable=True)\n",
    "print(\"Submitted 1st job: %d\" % (int(first_jobid)))\n",
    "\n",
    "second_jobid = flux.job.submit(f, sleep_jobspec, waitable=True)\n",
    "print(\"Submitted 2nd job: %d\\n\" % (int(second_jobid)))"
   ]
  },
  {
   "cell_type": "markdown",
   "id": "3c0e79a8-1267-45f4-ace8-715a7f441fcf",
   "metadata": {},
   "source": [
    "Note that the second job is in the _scheduled_ state because the first job is consuming all the cores in the allocation."
   ]
  },
  {
   "cell_type": "code",
   "execution_count": null,
   "id": "89ee210f-64f2-4153-bddc-89986cb9943f",
   "metadata": {},
   "outputs": [],
   "source": [
    "jobs = flux.job.JobList(f, max_entries=2).jobs()\n",
    "print(\"First submitted job status (%d) - %s\" % (int(jobs[1].id.dec), jobs[1].status))\n",
    "print(\"Second submitted job status (%d) - %s\\n\" % (int(jobs[0].id.dec), jobs[0].status))"
   ]
  },
  {
   "cell_type": "markdown",
   "id": "f7eeb8ea-b3a8-4d26-aa5f-6a00a9a95780",
   "metadata": {},
   "source": [
    "Use `flux.job.cancel()` to cancel the first job so that the second job can enter the _run_ state."
   ]
  },
  {
   "cell_type": "code",
   "execution_count": null,
   "id": "5669955f-5928-492e-a9d8-2086d1ee0a4c",
   "metadata": {},
   "outputs": [],
   "source": [
    "flux.job.cancel(f, first_jobid)\n",
    "future = flux.job.wait_async(f, first_jobid).wait_for(5.0)\n",
    "return_id, success, errmsg = future.get_status()\n",
    "print(\"Canceled first job: %d\\n\" % (int(return_id)))"
   ]
  },
  {
   "cell_type": "code",
   "execution_count": null,
   "id": "25e07444-bc79-40de-a394-e496d72d2d88",
   "metadata": {},
   "outputs": [],
   "source": [
    "jobs = flux.job.JobList(f, max_entries=2).jobs()\n",
    "print(\"First submitted job status (%d) - %s\" % (int(jobs[1].id.dec), jobs[1].status))\n",
    "print(\"Second submitted job status (%d) - %s\" % (int(jobs[0].id.dec), jobs[0].status))"
   ]
  }
 ],
 "metadata": {
  "kernelspec": {
   "display_name": "Python 3 (ipykernel)",
   "language": "python",
   "name": "python3"
  },
  "language_info": {
   "codemirror_mode": {
    "name": "ipython",
    "version": 3
   },
   "file_extension": ".py",
   "mimetype": "text/x-python",
   "name": "python",
   "nbconvert_exporter": "python",
   "pygments_lexer": "ipython3",
   "version": "3.9.12"
  }
 },
 "nbformat": 4,
 "nbformat_minor": 5
}
