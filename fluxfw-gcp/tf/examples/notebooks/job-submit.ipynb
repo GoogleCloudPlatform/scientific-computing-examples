{
 "cells": [
  {
   "cell_type": "markdown",
   "id": "9e13baf9-a175-4ad0-a39d-9dc3e7b81f86",
   "metadata": {
    "tags": []
   },
   "source": [
    "## Using the Job Submit API\n",
    "\n",
    "This notebook illustrates the use of the _flux-framework_ Python API to submit jobs in an allocation."
   ]
  },
  {
   "cell_type": "code",
   "execution_count": null,
   "id": "0e61f0d7-0bc9-43e5-8c43-daf2136374c4",
   "metadata": {},
   "outputs": [],
   "source": [
    "import json\n",
    "import os\n",
    "import re\n",
    "import flux\n",
    "from flux.job import JobspecV1"
   ]
  },
  {
   "cell_type": "markdown",
   "id": "186b4cde-47ad-406d-b965-f3095083825d",
   "metadata": {},
   "source": [
    "Determine the number of cores and nodes available in your allocation."
   ]
  },
  {
   "cell_type": "code",
   "execution_count": null,
   "id": "27d5824c-31ad-4ac7-b093-a8c730b31c60",
   "metadata": {},
   "outputs": [],
   "source": [
    "ncores = !flux resource list -no {ncores} --state=up\n",
    "nc = int(ncores[0])\n",
    "\n",
    "nnodes = !flux resource list -no {nnodes} --state=up\n",
    "nn = int(nnodes[0])"
   ]
  },
  {
   "cell_type": "markdown",
   "id": "29ec11a9-87aa-404b-957e-321653414592",
   "metadata": {},
   "source": [
    "`flux.Flux()` creates a new Flux handle which can be used to connect to an interact with a flux broker."
   ]
  },
  {
   "cell_type": "code",
   "execution_count": null,
   "id": "b239fb42-0280-4070-a18a-62765abfa28b",
   "metadata": {},
   "outputs": [],
   "source": [
    "f = flux.Flux()"
   ]
  },
  {
   "cell_type": "markdown",
   "id": "108c0afb-78ee-4350-872c-9160d99466c3",
   "metadata": {},
   "source": [
    "The `JobspecV1` class constructs a job request that can be submitted to flux. Here we create a job request that will execute `compute.py` four times \n",
    "across two nodes using two cores per execution."
   ]
  },
  {
   "cell_type": "code",
   "execution_count": null,
   "id": "65c6140d-5655-4ef4-9e02-a4c682593ad0",
   "metadata": {},
   "outputs": [],
   "source": [
    "compute_jobreq = JobspecV1.from_command(\n",
    "    command=[\"./flux-workflow-examples/job-submit-api/compute.py\", \"120\"], num_tasks=nn, num_nodes=int(nn/2), cores_per_task=2\n",
    ")\n",
    "compute_jobreq.cwd = os.getcwd()\n",
    "compute_jobreq.environment = dict(os.environ)"
   ]
  },
  {
   "cell_type": "markdown",
   "id": "1775cb6b-d2f0-472c-bf9e-a824d0e4b2f0",
   "metadata": {},
   "source": [
    "The call to `flux.job.submit()` submits the job to the flux broker and returns its _job ID_ once it begins running."
   ]
  },
  {
   "cell_type": "code",
   "execution_count": null,
   "id": "afba11ac-fae5-4e90-9261-3ccfba5e2adc",
   "metadata": {},
   "outputs": [],
   "source": [
    "print(flux.job.submit(f, compute_jobreq))"
   ]
  },
  {
   "cell_type": "markdown",
   "id": "b9ae1b09-3726-48d8-b09d-5ecef7a42685",
   "metadata": {},
   "source": [
    "Create a new job request that executes `io-forwarding.py` once on a single node with one core and submit it as well"
   ]
  },
  {
   "cell_type": "code",
   "execution_count": null,
   "id": "53176a2e-4766-4491-8144-d6c8739d8603",
   "metadata": {},
   "outputs": [],
   "source": [
    "io_jobreq = JobspecV1.from_command(\n",
    "    command=[\"./flux-workflow-examples/job-submit-api/io-forwarding.py\", \"120\"], num_tasks=1, num_nodes=1, cores_per_task=1\n",
    ")\n",
    "io_jobreq.cwd = os.getcwd()\n",
    "io_jobreq.environment = dict(os.environ)\n",
    "\n",
    "print(flux.job.submit(f, io_jobreq))"
   ]
  },
  {
   "cell_type": "markdown",
   "id": "84653475-7910-4a3c-ae36-8e201215ba25",
   "metadata": {},
   "source": [
    "Now use the flux CLI to verify that you have a `compute.py` job running on two nodes and that there is one node running the `io-forwarding.py` job."
   ]
  },
  {
   "cell_type": "code",
   "execution_count": null,
   "id": "bc100af1-40c6-4a58-956c-7571186d31ec",
   "metadata": {},
   "outputs": [],
   "source": [
    "!flux jobs"
   ]
  },
  {
   "cell_type": "markdown",
   "id": "36e08e3e-7996-46c7-a35b-ad80e879179b",
   "metadata": {},
   "source": [
    "To see how many of your allocation's resources are being consumed by these jobs use the `flux resource list` command."
   ]
  },
  {
   "cell_type": "code",
   "execution_count": null,
   "id": "46db597b-ae9d-4b69-b392-cc86b4768498",
   "metadata": {},
   "outputs": [],
   "source": [
    "!flux resource list"
   ]
  },
  {
   "cell_type": "markdown",
   "id": "fa714bb2-6142-4cf1-bd8d-ff628cb7abc8",
   "metadata": {},
   "source": [
    "Next, launch another `compute.py` and `io-forwarding.py` job pair that spans all the nodes in your allocation."
   ]
  },
  {
   "cell_type": "code",
   "execution_count": null,
   "id": "a1dabeb2-d3ad-4801-b517-adfd6b7e2468",
   "metadata": {},
   "outputs": [],
   "source": [
    "nt = int(nn*2)\n",
    "cpt = int((nc-nn)/nt)\n",
    "         \n",
    "compute_jobreq = JobspecV1.from_command(\n",
    "    command=[\"./flux-workflow-examples/job-submit-api/compute.py\", \"120\"], num_tasks=nt, num_nodes=nn, cores_per_task=cpt\n",
    ")\n",
    "compute_jobreq.cwd = os.getcwd()\n",
    "compute_jobreq.environment = dict(os.environ)\n",
    "\n",
    "print(\"compute.py job:\", flux.job.submit(f, compute_jobreq))\n",
    "\n",
    "io_jobreq = JobspecV1.from_command(\n",
    "    command=[\"./flux-workflow-examples/job-submit-api/io-forwarding.py\", \"120\"], num_tasks=nn, num_nodes=nn, cores_per_task=1\n",
    ")\n",
    "io_jobreq.cwd = os.getcwd()\n",
    "io_jobreq.environment = dict(os.environ)\n",
    "\n",
    "print(\"io-forwarding.py job:\", flux.job.submit(f, io_jobreq))"
   ]
  },
  {
   "cell_type": "markdown",
   "id": "ba4fd4b9-3e73-4f3a-977e-cee43e009577",
   "metadata": {},
   "source": [
    "Unless you waited for the previous jobs to finish, you should see that the new `compute.py` and `io-forwarding.py` jobs are in the _suspended_ state, indicated by an **S** in the `ST` column of the `flux jobs` output. They are suspended because your allocation didn't have the resources, _i.e._, nodes and cores, free to run them."
   ]
  },
  {
   "cell_type": "code",
   "execution_count": null,
   "id": "95ca8cab-17ac-46fc-9b7f-4b1459390507",
   "metadata": {},
   "outputs": [],
   "source": [
    "!flux jobs"
   ]
  },
  {
   "cell_type": "markdown",
   "id": "913dc8ff-7fc3-4865-810c-ae00b4f72cba",
   "metadata": {},
   "source": [
    "When the first pair of jobs complete, the resources they were using will be freed up and the next pair will entering _running_ state."
   ]
  }
 ],
 "metadata": {
  "kernelspec": {
   "display_name": "Python 3 (ipykernel)",
   "language": "python",
   "name": "python3"
  },
  "language_info": {
   "codemirror_mode": {
    "name": "ipython",
    "version": 3
   },
   "file_extension": ".py",
   "mimetype": "text/x-python",
   "name": "python",
   "nbconvert_exporter": "python",
   "pygments_lexer": "ipython3",
   "version": "3.9.12"
  }
 },
 "nbformat": 4,
 "nbformat_minor": 5
}
